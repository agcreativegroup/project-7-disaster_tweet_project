{
 "cells": [
  {
   "cell_type": "code",
   "execution_count": 1,
   "id": "c1fc1d12-c0d9-464e-9efb-f132c12da703",
   "metadata": {},
   "outputs": [
    {
     "name": "stderr",
     "output_type": "stream",
     "text": [
      "[nltk_data] Downloading package vader_lexicon to\n",
      "[nltk_data]     C:\\Users\\gurpr\\AppData\\Roaming\\nltk_data...\n",
      "[nltk_data]   Package vader_lexicon is already up-to-date!\n"
     ]
    },
    {
     "data": {
      "text/plain": [
       "True"
      ]
     },
     "execution_count": 1,
     "metadata": {},
     "output_type": "execute_result"
    }
   ],
   "source": [
    "import pandas as pd, numpy as np, re, joblib, nltk, matplotlib.pyplot as plt, seaborn as sns\n",
    "from nltk.sentiment import SentimentIntensityAnalyzer\n",
    "from sklearn.feature_extraction.text import TfidfVectorizer\n",
    "from sklearn.model_selection import train_test_split, cross_val_score, RandomizedSearchCV\n",
    "from sklearn.preprocessing import StandardScaler\n",
    "from sklearn.linear_model import LogisticRegression\n",
    "from sklearn.ensemble import RandomForestClassifier\n",
    "from sklearn.neural_network import MLPClassifier\n",
    "from sklearn.metrics import (accuracy_score, precision_score, recall_score, f1_score,\n",
    "                             classification_report, confusion_matrix,\n",
    "                             roc_curve, auc, precision_recall_curve, average_precision_score)\n",
    "from scipy.sparse import hstack\n",
    "from sklearn.metrics import classification_report\n",
    "from sklearn.metrics import confusion_matrix, ConfusionMatrixDisplay\n",
    "from sklearn.metrics import roc_curve, auc\n",
    "from sklearn.metrics import precision_recall_curve, average_precision_score\n",
    "nltk.download('vader_lexicon')\n"
   ]
  },
  {
   "cell_type": "code",
   "execution_count": 2,
   "id": "9bea2546-0edd-4f5e-b4e9-62119eab61b8",
   "metadata": {},
   "outputs": [
    {
     "name": "stdout",
     "output_type": "stream",
     "text": [
      "Dataset shape : (7613, 9)\n"
     ]
    },
    {
     "data": {
      "text/html": [
       "<div>\n",
       "<style scoped>\n",
       "    .dataframe tbody tr th:only-of-type {\n",
       "        vertical-align: middle;\n",
       "    }\n",
       "\n",
       "    .dataframe tbody tr th {\n",
       "        vertical-align: top;\n",
       "    }\n",
       "\n",
       "    .dataframe thead th {\n",
       "        text-align: right;\n",
       "    }\n",
       "</style>\n",
       "<table border=\"1\" class=\"dataframe\">\n",
       "  <thead>\n",
       "    <tr style=\"text-align: right;\">\n",
       "      <th></th>\n",
       "      <th>id</th>\n",
       "      <th>keyword</th>\n",
       "      <th>location</th>\n",
       "      <th>text</th>\n",
       "      <th>target</th>\n",
       "      <th>clean_text</th>\n",
       "      <th>tokens</th>\n",
       "      <th>text_length</th>\n",
       "      <th>word_count</th>\n",
       "    </tr>\n",
       "  </thead>\n",
       "  <tbody>\n",
       "    <tr>\n",
       "      <th>0</th>\n",
       "      <td>1</td>\n",
       "      <td>NaN</td>\n",
       "      <td>NaN</td>\n",
       "      <td>Our Deeds are the Reason of this #earthquake M...</td>\n",
       "      <td>1</td>\n",
       "      <td>our deeds are the reason of this earthquake ma...</td>\n",
       "      <td>['deed', 'reason', 'earthquake', 'may', 'allah...</td>\n",
       "      <td>69</td>\n",
       "      <td>13</td>\n",
       "    </tr>\n",
       "    <tr>\n",
       "      <th>1</th>\n",
       "      <td>4</td>\n",
       "      <td>NaN</td>\n",
       "      <td>NaN</td>\n",
       "      <td>Forest fire near La Ronge Sask. Canada</td>\n",
       "      <td>1</td>\n",
       "      <td>forest fire near la ronge sask canada</td>\n",
       "      <td>['forest', 'fire', 'near', 'ronge', 'sask', 'c...</td>\n",
       "      <td>38</td>\n",
       "      <td>7</td>\n",
       "    </tr>\n",
       "    <tr>\n",
       "      <th>2</th>\n",
       "      <td>5</td>\n",
       "      <td>NaN</td>\n",
       "      <td>NaN</td>\n",
       "      <td>All residents asked to 'shelter in place' are ...</td>\n",
       "      <td>1</td>\n",
       "      <td>all residents asked to shelter in place are be...</td>\n",
       "      <td>['resident', 'asked', 'shelter', 'place', 'not...</td>\n",
       "      <td>133</td>\n",
       "      <td>22</td>\n",
       "    </tr>\n",
       "    <tr>\n",
       "      <th>3</th>\n",
       "      <td>6</td>\n",
       "      <td>NaN</td>\n",
       "      <td>NaN</td>\n",
       "      <td>13,000 people receive #wildfires evacuation or...</td>\n",
       "      <td>1</td>\n",
       "      <td>people receive wildfires evacuation orders in ...</td>\n",
       "      <td>['people', 'receive', 'wildfire', 'evacuation'...</td>\n",
       "      <td>65</td>\n",
       "      <td>8</td>\n",
       "    </tr>\n",
       "    <tr>\n",
       "      <th>4</th>\n",
       "      <td>7</td>\n",
       "      <td>NaN</td>\n",
       "      <td>NaN</td>\n",
       "      <td>Just got sent this photo from Ruby #Alaska as ...</td>\n",
       "      <td>1</td>\n",
       "      <td>just got sent this photo from ruby alaska as s...</td>\n",
       "      <td>['got', 'sent', 'photo', 'ruby', 'alaska', 'sm...</td>\n",
       "      <td>88</td>\n",
       "      <td>16</td>\n",
       "    </tr>\n",
       "  </tbody>\n",
       "</table>\n",
       "</div>"
      ],
      "text/plain": [
       "   id keyword location                                               text  \\\n",
       "0   1     NaN      NaN  Our Deeds are the Reason of this #earthquake M...   \n",
       "1   4     NaN      NaN             Forest fire near La Ronge Sask. Canada   \n",
       "2   5     NaN      NaN  All residents asked to 'shelter in place' are ...   \n",
       "3   6     NaN      NaN  13,000 people receive #wildfires evacuation or...   \n",
       "4   7     NaN      NaN  Just got sent this photo from Ruby #Alaska as ...   \n",
       "\n",
       "   target                                         clean_text  \\\n",
       "0       1  our deeds are the reason of this earthquake ma...   \n",
       "1       1              forest fire near la ronge sask canada   \n",
       "2       1  all residents asked to shelter in place are be...   \n",
       "3       1  people receive wildfires evacuation orders in ...   \n",
       "4       1  just got sent this photo from ruby alaska as s...   \n",
       "\n",
       "                                              tokens  text_length  word_count  \n",
       "0  ['deed', 'reason', 'earthquake', 'may', 'allah...           69          13  \n",
       "1  ['forest', 'fire', 'near', 'ronge', 'sask', 'c...           38           7  \n",
       "2  ['resident', 'asked', 'shelter', 'place', 'not...          133          22  \n",
       "3  ['people', 'receive', 'wildfire', 'evacuation'...           65           8  \n",
       "4  ['got', 'sent', 'photo', 'ruby', 'alaska', 'sm...           88          16  "
      ]
     },
     "execution_count": 2,
     "metadata": {},
     "output_type": "execute_result"
    }
   ],
   "source": [
    "DATA_PATH = \"../data/processed_disaster_tweets.csv\"  \n",
    "df = pd.read_csv(DATA_PATH)\n",
    "\n",
    "print(f\"Dataset shape : {df.shape}\")\n",
    "df.head()"
   ]
  },
  {
   "cell_type": "markdown",
   "id": "83138d39-2f10-4d1c-9be2-0a069538d9c7",
   "metadata": {},
   "source": [
    "# Add Sentiment Analysis Features"
   ]
  },
  {
   "cell_type": "code",
   "execution_count": 4,
   "id": "bf923674-0b4d-4046-99c1-bf2a75188cf5",
   "metadata": {},
   "outputs": [],
   "source": [
    "sia = SentimentIntensityAnalyzer()\n",
    "sent = df['clean_text'].apply(lambda t: pd.Series(sia.polarity_scores(t)))\n",
    "df = pd.concat([df, sent], axis=1)\n",
    "\n"
   ]
  },
  {
   "cell_type": "markdown",
   "id": "363ef5e3-ebb2-482a-bca9-bf08a1cfca49",
   "metadata": {},
   "source": [
    "# Add Metadata Features"
   ]
  },
  {
   "cell_type": "code",
   "execution_count": 6,
   "id": "9ad47ec1-1828-49bb-b5ed-63e35258d3ef",
   "metadata": {},
   "outputs": [
    {
     "data": {
      "text/html": [
       "<div>\n",
       "<style scoped>\n",
       "    .dataframe tbody tr th:only-of-type {\n",
       "        vertical-align: middle;\n",
       "    }\n",
       "\n",
       "    .dataframe tbody tr th {\n",
       "        vertical-align: top;\n",
       "    }\n",
       "\n",
       "    .dataframe thead th {\n",
       "        text-align: right;\n",
       "    }\n",
       "</style>\n",
       "<table border=\"1\" class=\"dataframe\">\n",
       "  <thead>\n",
       "    <tr style=\"text-align: right;\">\n",
       "      <th></th>\n",
       "      <th>char_count</th>\n",
       "      <th>word_count</th>\n",
       "      <th>hashtag_count</th>\n",
       "      <th>mention_count</th>\n",
       "    </tr>\n",
       "  </thead>\n",
       "  <tbody>\n",
       "    <tr>\n",
       "      <th>0</th>\n",
       "      <td>69</td>\n",
       "      <td>13</td>\n",
       "      <td>1</td>\n",
       "      <td>0</td>\n",
       "    </tr>\n",
       "    <tr>\n",
       "      <th>1</th>\n",
       "      <td>38</td>\n",
       "      <td>7</td>\n",
       "      <td>0</td>\n",
       "      <td>0</td>\n",
       "    </tr>\n",
       "    <tr>\n",
       "      <th>2</th>\n",
       "      <td>133</td>\n",
       "      <td>22</td>\n",
       "      <td>0</td>\n",
       "      <td>0</td>\n",
       "    </tr>\n",
       "    <tr>\n",
       "      <th>3</th>\n",
       "      <td>65</td>\n",
       "      <td>7</td>\n",
       "      <td>1</td>\n",
       "      <td>0</td>\n",
       "    </tr>\n",
       "    <tr>\n",
       "      <th>4</th>\n",
       "      <td>88</td>\n",
       "      <td>16</td>\n",
       "      <td>2</td>\n",
       "      <td>0</td>\n",
       "    </tr>\n",
       "  </tbody>\n",
       "</table>\n",
       "</div>"
      ],
      "text/plain": [
       "   char_count  word_count  hashtag_count  mention_count\n",
       "0          69          13              1              0\n",
       "1          38           7              0              0\n",
       "2         133          22              0              0\n",
       "3          65           7              1              0\n",
       "4          88          16              2              0"
      ]
     },
     "execution_count": 6,
     "metadata": {},
     "output_type": "execute_result"
    }
   ],
   "source": [
    "# Tweet Length\n",
    "df['char_count'] = df['text'].apply(len)\n",
    "\n",
    "# Word count\n",
    "df['word_count'] = df['clean_text'].apply(lambda x: len(x.split()))\n",
    "\n",
    "# Hashtag count\n",
    "df['hashtag_count'] = df['text'].apply(lambda x: len(re.findall(r\"#\\w+\", x)))\n",
    "\n",
    "# Mention count\n",
    "df['mention_count'] = df['text'].apply(lambda x: len(re.findall(r\"@\\w+\", x)))\n",
    "\n",
    "df[['char_count', 'word_count', 'hashtag_count', 'mention_count']].head()\n"
   ]
  },
  {
   "cell_type": "markdown",
   "id": "72a500fb-ccb1-4434-9c54-afbfc86e3617",
   "metadata": {},
   "source": [
    "# TF-IDF Vectorization of Text"
   ]
  },
  {
   "cell_type": "code",
   "execution_count": 8,
   "id": "a75ec69d-82ed-4cca-8076-de92ac494cd3",
   "metadata": {},
   "outputs": [],
   "source": [
    "# Use already split clean text and labels\n",
    "X_text = df['clean_text']\n",
    "y = df['target']\n",
    "\n",
    "X_train_text, X_test_text, y_train, y_test = train_test_split(\n",
    "    X_text, y, test_size=0.2, random_state=42, stratify=y)\n",
    "\n",
    "# TF-IDF\n",
    "tfidf = TfidfVectorizer(max_features=5000, ngram_range=(1,2))\n",
    "X_train_tfidf = tfidf.fit_transform(X_train_text)\n",
    "X_test_tfidf = tfidf.transform(X_test_text)"
   ]
  },
  {
   "cell_type": "markdown",
   "id": "44e5fa66-fe7b-4d14-9a9c-ffe50ebc46ea",
   "metadata": {},
   "source": [
    "# Combine Text Features + Metadata + Sentiment"
   ]
  },
  {
   "cell_type": "code",
   "execution_count": 10,
   "id": "10b253d7-479a-4c4e-bd79-9f27ba6d666d",
   "metadata": {},
   "outputs": [],
   "source": [
    "# Additional features\n",
    "feature_cols = ['char_count', 'word_count', 'hashtag_count', 'mention_count',\n",
    "                'neg', 'neu', 'pos', 'compound']\n",
    "\n",
    "X_additional = df[feature_cols]\n",
    "X_train_add, X_test_add = train_test_split(X_additional, test_size=0.2, random_state=42)\n",
    "\n",
    "# Scale numerical features\n",
    "scaler = StandardScaler()\n",
    "X_train_add_scaled = scaler.fit_transform(X_train_add)\n",
    "X_test_add_scaled = scaler.transform(X_test_add)\n",
    "\n",
    "# Combine TF-IDF + other features\n",
    "from scipy.sparse import hstack\n",
    "X_train_final = hstack((X_train_tfidf, X_train_add_scaled))\n",
    "X_test_final = hstack((X_test_tfidf, X_test_add_scaled))\n"
   ]
  },
  {
   "cell_type": "markdown",
   "id": "f4d264e7-c8df-4399-b85f-bd5cf67c4a37",
   "metadata": {},
   "source": [
    "# MODEL SELECTION & TRAINING"
   ]
  },
  {
   "cell_type": "code",
   "execution_count": 12,
   "id": "e20a541a-ec5b-46ca-ad50-31671aaed9e5",
   "metadata": {},
   "outputs": [
    {
     "name": "stdout",
     "output_type": "stream",
     "text": [
      "Logistic Regression Report:\n",
      "              precision    recall  f1-score   support\n",
      "\n",
      "           0       0.81      0.90      0.85       869\n",
      "           1       0.84      0.72      0.77       654\n",
      "\n",
      "    accuracy                           0.82      1523\n",
      "   macro avg       0.82      0.81      0.81      1523\n",
      "weighted avg       0.82      0.82      0.82      1523\n",
      "\n"
     ]
    }
   ],
   "source": [
    "#Logistic Regression\n",
    "log_reg = LogisticRegression(max_iter=200)\n",
    "log_reg.fit(X_train_final, y_train)\n",
    "\n",
    "y_pred_lr = log_reg.predict(X_test_final)\n",
    "print(\"Logistic Regression Report:\")\n",
    "print(classification_report(y_test, y_pred_lr))\n"
   ]
  },
  {
   "cell_type": "markdown",
   "id": "520059ca-db11-4206-adba-226e592df49a",
   "metadata": {},
   "source": [
    "# Random Forest Classifier"
   ]
  },
  {
   "cell_type": "code",
   "execution_count": 14,
   "id": "54299397-556e-4840-969b-29de8aff1ed1",
   "metadata": {},
   "outputs": [
    {
     "name": "stdout",
     "output_type": "stream",
     "text": [
      "Random Forest Report:\n",
      "              precision    recall  f1-score   support\n",
      "\n",
      "           0       0.78      0.89      0.83       869\n",
      "           1       0.82      0.66      0.73       654\n",
      "\n",
      "    accuracy                           0.79      1523\n",
      "   macro avg       0.80      0.78      0.78      1523\n",
      "weighted avg       0.80      0.79      0.79      1523\n",
      "\n"
     ]
    }
   ],
   "source": [
    "rf = RandomForestClassifier(n_estimators=100, random_state=42)\n",
    "rf.fit(X_train_final.toarray(), y_train)\n",
    "\n",
    "y_pred_rf = rf.predict(X_test_final.toarray())\n",
    "print(\"Random Forest Report:\")\n",
    "print(classification_report(y_test, y_pred_rf))\n"
   ]
  },
  {
   "cell_type": "markdown",
   "id": "b24e3e64-9450-4f4b-af36-3c78db71b24b",
   "metadata": {},
   "source": [
    "# Neural Network (MLPClassifier from Scikit-learn)"
   ]
  },
  {
   "cell_type": "code",
   "execution_count": 16,
   "id": "0f19b3ff-0b71-49f0-a480-332d0fa2b07f",
   "metadata": {},
   "outputs": [
    {
     "name": "stdout",
     "output_type": "stream",
     "text": [
      "MLP Classifier Report:\n",
      "              precision    recall  f1-score   support\n",
      "\n",
      "           0       0.80      0.77      0.78       869\n",
      "           1       0.71      0.74      0.72       654\n",
      "\n",
      "    accuracy                           0.76      1523\n",
      "   macro avg       0.75      0.75      0.75      1523\n",
      "weighted avg       0.76      0.76      0.76      1523\n",
      "\n"
     ]
    }
   ],
   "source": [
    "mlp = MLPClassifier(hidden_layer_sizes=(100,), activation='relu', max_iter=300)\n",
    "mlp.fit(X_train_final, y_train)\n",
    "\n",
    "y_pred_mlp = mlp.predict(X_test_final)\n",
    "print(\"MLP Classifier Report:\")\n",
    "print(classification_report(y_test, y_pred_mlp))"
   ]
  },
  {
   "cell_type": "markdown",
   "id": "803993bb-ada7-428f-a513-bdc56559ba27",
   "metadata": {},
   "source": [
    "# Cross Validation"
   ]
  },
  {
   "cell_type": "code",
   "execution_count": 18,
   "id": "9ec09679-b9d3-4742-8ae1-eff6841a4a02",
   "metadata": {},
   "outputs": [
    {
     "name": "stdout",
     "output_type": "stream",
     "text": [
      "Cross-validation F1 scores: [0.74019088 0.73482428 0.72435897 0.72881356 0.73917635]\n",
      "Mean F1 score: 0.7334728082715511\n"
     ]
    }
   ],
   "source": [
    "\n",
    "cv_scores = cross_val_score(log_reg, X_train_final, y_train, cv=5, scoring='f1')\n",
    "print(\"Cross-validation F1 scores:\", cv_scores)\n",
    "print(\"Mean F1 score:\", cv_scores.mean())\n"
   ]
  },
  {
   "cell_type": "markdown",
   "id": "fcaaba08-a384-4a17-b6e9-42e97fe85d01",
   "metadata": {},
   "source": [
    "# Hyperparameter Tuning (Random Search)"
   ]
  },
  {
   "cell_type": "code",
   "execution_count": 20,
   "id": "2016ab3a-d837-4f2d-8dae-8a19aab62c68",
   "metadata": {},
   "outputs": [
    {
     "name": "stdout",
     "output_type": "stream",
     "text": [
      "Best Params: {'n_estimators': 100, 'min_samples_split': 5, 'max_depth': None}\n",
      "Optimized RF Report:\n",
      "              precision    recall  f1-score   support\n",
      "\n",
      "           0       0.79      0.88      0.83       869\n",
      "           1       0.82      0.68      0.74       654\n",
      "\n",
      "    accuracy                           0.80      1523\n",
      "   macro avg       0.80      0.78      0.79      1523\n",
      "weighted avg       0.80      0.80      0.79      1523\n",
      "\n"
     ]
    }
   ],
   "source": [
    "param_grid = {\n",
    "    'n_estimators': [100, 150, 200],\n",
    "    'max_depth': [10, 20, None],\n",
    "    'min_samples_split': [2, 5, 10]\n",
    "}\n",
    "\n",
    "random_search = RandomizedSearchCV(\n",
    "    RandomForestClassifier(random_state=42),\n",
    "    param_distributions=param_grid,\n",
    "    n_iter=5,\n",
    "    scoring='f1',\n",
    "    cv=3,\n",
    "    random_state=42\n",
    ")\n",
    "\n",
    "random_search.fit(X_train_final.toarray(), y_train)\n",
    "print(\"Best Params:\", random_search.best_params_)\n",
    "\n",
    "best_rf = random_search.best_estimator_\n",
    "y_pred_best_rf = best_rf.predict(X_test_final.toarray())\n",
    "print(\"Optimized RF Report:\")\n",
    "print(classification_report(y_test, y_pred_best_rf))\n"
   ]
  },
  {
   "cell_type": "code",
   "execution_count": 21,
   "id": "0c624026-dfa3-4b48-8132-be4bc2eb105d",
   "metadata": {},
   "outputs": [
    {
     "name": "stdout",
     "output_type": "stream",
     "text": [
      "Model, vectorizer, and scaler saved successfully.\n"
     ]
    }
   ],
   "source": [
    "\n",
    "# Save best model \n",
    "joblib.dump(best_rf, '../models/best_model.pkl')\n",
    "\n",
    "# Save the TF-IDF vectorizer\n",
    "joblib.dump(tfidf, '../models/tfidf_vectorizer.pkl')\n",
    "\n",
    "scaler = StandardScaler()\n",
    "scaler.fit(df[feature_cols])       \n",
    "joblib.dump(scaler, '../models/scaler.pkl')\n",
    "\n",
    "\n",
    "\n",
    "print(\"Model, vectorizer, and scaler saved successfully.\")\n"
   ]
  },
  {
   "cell_type": "markdown",
   "id": "9c16c796-459d-4e25-a3c6-66132b40843a",
   "metadata": {},
   "source": [
    "# Model Evaluation\n"
   ]
  },
  {
   "cell_type": "code",
   "execution_count": 23,
   "id": "c631ab5d-3e1c-4b9d-a13d-341d12627ff3",
   "metadata": {},
   "outputs": [],
   "source": [
    "# Assuming best_rf is the chosen model\n",
    "y_pred = best_rf.predict(X_test_final.toarray())\n",
    "y_proba = best_rf.predict_proba(X_test_final.toarray())[:, 1]  # Probabilities for ROC\n"
   ]
  },
  {
   "cell_type": "markdown",
   "id": "8af2021c-47d9-49c7-9f60-d394e6a28ac2",
   "metadata": {},
   "source": [
    "# Classification Report"
   ]
  },
  {
   "cell_type": "code",
   "execution_count": 25,
   "id": "a3d5e4ea-7a07-45e6-bb66-7d712d59831c",
   "metadata": {},
   "outputs": [
    {
     "name": "stdout",
     "output_type": "stream",
     "text": [
      " Classification Report:\n",
      "              precision    recall  f1-score   support\n",
      "\n",
      "Non-disaster       0.79      0.88      0.83       869\n",
      "    Disaster       0.82      0.68      0.74       654\n",
      "\n",
      "    accuracy                           0.80      1523\n",
      "   macro avg       0.80      0.78      0.79      1523\n",
      "weighted avg       0.80      0.80      0.79      1523\n",
      "\n"
     ]
    }
   ],
   "source": [
    "\n",
    "\n",
    "print(\" Classification Report:\")\n",
    "print(classification_report(y_test, y_pred, target_names=[\"Non-disaster\", \"Disaster\"]))"
   ]
  },
  {
   "cell_type": "markdown",
   "id": "ee20e2aa-ac73-44ae-8696-a4cca2403fb7",
   "metadata": {},
   "source": [
    "# Confusion Matrix"
   ]
  },
  {
   "cell_type": "code",
   "execution_count": 27,
   "id": "b6f6302d-85eb-4892-a456-8540fb178a1d",
   "metadata": {},
   "outputs": [
    {
     "data": {
      "text/plain": [
       "<sklearn.metrics._plot.confusion_matrix.ConfusionMatrixDisplay at 0x213649a9a20>"
      ]
     },
     "execution_count": 27,
     "metadata": {},
     "output_type": "execute_result"
    },
    {
     "data": {
      "image/png": "[encoded data removed]",
      "text/plain": [
       "<Figure size 640x480 with 2 Axes>"
      ]
     },
     "metadata": {},
     "output_type": "display_data"
    }
   ],
   "source": [
    "\n",
    "cm = confusion_matrix(y_test, y_pred)\n",
    "disp = ConfusionMatrixDisplay(confusion_matrix=cm, display_labels=[\"Non-disaster\", \"Disaster\"])\n",
    "disp.plot(cmap=\"Blues\")"
   ]
  },
  {
   "cell_type": "markdown",
   "id": "fb447de0-7899-4679-af7f-b3be0856e4d2",
   "metadata": {},
   "source": [
    "# ROC Curve"
   ]
  },
  {
   "cell_type": "code",
   "execution_count": 29,
   "id": "4cb96f0a-da9f-4c38-8912-8835e5296eb3",
   "metadata": {},
   "outputs": [
    {
     "data": {
      "image/png": "[encoded data removed]",
      "text/plain": [
       "<Figure size 600x500 with 1 Axes>"
      ]
     },
     "metadata": {},
     "output_type": "display_data"
    }
   ],
   "source": [
    "fpr, tpr, thresholds = roc_curve(y_test, y_proba)\n",
    "roc_auc = auc(fpr, tpr)\n",
    "\n",
    "plt.figure(figsize=(6, 5))\n",
    "plt.plot(fpr, tpr, color='darkorange', label=f\"ROC curve (AUC = {roc_auc:.2f})\")\n",
    "plt.plot([0, 1], [0, 1], color='navy', linestyle='--')\n",
    "plt.xlabel(\"False Positive Rate\")\n",
    "plt.ylabel(\"True Positive Rate\")\n",
    "plt.title(\"Receiver Operating Characteristic (ROC)\")\n",
    "plt.legend()\n",
    "plt.grid()\n",
    "plt.show()\n"
   ]
  },
  {
   "cell_type": "markdown",
   "id": "27ece54d-4b19-4555-a015-7dfe70272e8e",
   "metadata": {},
   "source": [
    "# Precision-Recall Curve"
   ]
  },
  {
   "cell_type": "code",
   "execution_count": 31,
   "id": "589f10bc-6d8a-49e6-ac0a-4cb26d2c5242",
   "metadata": {},
   "outputs": [
    {
     "data": {
      "image/png": "[encoded data removed]",
      "text/plain": [
       "<Figure size 600x500 with 1 Axes>"
      ]
     },
     "metadata": {},
     "output_type": "display_data"
    }
   ],
   "source": [
    "\n",
    "\n",
    "precision, recall, _ = precision_recall_curve(y_test, y_proba)\n",
    "avg_prec = average_precision_score(y_test, y_proba)\n",
    "\n",
    "plt.figure(figsize=(6, 5))\n",
    "plt.plot(recall, precision, color='green', label=f\"Avg Precision = {avg_prec:.2f}\")\n",
    "plt.xlabel(\"Recall\")\n",
    "plt.ylabel(\"Precision\")\n",
    "plt.title(\"Precision-Recall Curve\")\n",
    "plt.legend()\n",
    "plt.grid()\n",
    "plt.show()\n"
   ]
  },
  {
   "cell_type": "markdown",
   "id": "2cdf2aef-b1ce-4640-9d12-ad3a56312892",
   "metadata": {},
   "source": [
    "# Model Comparison Summary"
   ]
  },
  {
   "cell_type": "code",
   "execution_count": 33,
   "id": "75937e38-be3e-44f5-a782-24b641cf11b0",
   "metadata": {},
   "outputs": [
    {
     "name": "stdout",
     "output_type": "stream",
     "text": [
      "Logistic Regression  | Accuracy: 0.8194 | F1-Score: 0.7733\n",
      "Random Forest        | Accuracy: 0.7919 | F1-Score: 0.7311\n",
      "MLP Classifier       | Accuracy: 0.7571 | F1-Score: 0.7235\n"
     ]
    }
   ],
   "source": [
    "from sklearn.metrics import f1_score, accuracy_score\n",
    "\n",
    "models = {\n",
    "    'Logistic Regression': log_reg,\n",
    "    'Random Forest': rf,\n",
    "    'MLP Classifier': mlp\n",
    "}\n",
    "\n",
    "for name, model in models.items():\n",
    "    pred = model.predict(X_test_final if name != 'Random Forest' else X_test_final.toarray())\n",
    "    acc = accuracy_score(y_test, pred)\n",
    "    f1 = f1_score(y_test, pred)\n",
    "    print(f\"{name:20} | Accuracy: {acc:.4f} | F1-Score: {f1:.4f}\")\n"
   ]
  },
  {
   "cell_type": "markdown",
   "id": "31c7a32a-c6fd-465c-90ac-799277eeeb7a",
   "metadata": {},
   "source": [
    "# Model Validation"
   ]
  },
  {
   "cell_type": "code",
   "execution_count": 35,
   "id": "3d23d728-c6c5-45ad-8db6-c6df7d38e0b7",
   "metadata": {},
   "outputs": [
    {
     "name": "stdout",
     "output_type": "stream",
     "text": [
      "Train Accuracy: 0.9901\n",
      "Test Accuracy : 0.7978\n"
     ]
    }
   ],
   "source": [
    "# Check for Overfitting\n",
    "from sklearn.metrics import accuracy_score, f1_score\n",
    "\n",
    "train_pred = best_rf.predict(X_train_final.toarray())\n",
    "test_pred = best_rf.predict(X_test_final.toarray())\n",
    "\n",
    "train_acc = accuracy_score(y_train, train_pred)\n",
    "test_acc = accuracy_score(y_test, test_pred)\n",
    "\n",
    "print(f\"Train Accuracy: {train_acc:.4f}\")\n",
    "print(f\"Test Accuracy : {test_acc:.4f}\")"
   ]
  },
  {
   "cell_type": "code",
   "execution_count": 36,
   "id": "0ec0fb75-7683-4753-8522-9ae45c98f5a1",
   "metadata": {
    "scrolled": true
   },
   "outputs": [
    {
     "name": "stdout",
     "output_type": "stream",
     "text": [
      "[Non-Disaster] ➜ Huge earthquake just hit Mexico!\n",
      "[Non-Disaster] ➜ I'm burning my pizza. What a disaster!\n",
      "[Disaster] ➜ Wildfire spreading in California.\n",
      "[Disaster] ➜ Feeling cold. Might stay in bed.\n"
     ]
    }
   ],
   "source": [
    "sample_tweets = [\n",
    "    \"Huge earthquake just hit Mexico!\",\n",
    "    \"I'm burning my pizza. What a disaster!\",\n",
    "    \"Wildfire spreading in California.\",\n",
    "    \"Feeling cold. Might stay in bed.\"\n",
    "]\n",
    "\n",
    "# Clean tweets inline (if clean_text isn't available)\n",
    "basic_clean = lambda s: re.sub(\n",
    "    r'[^a-z\\s]', ' ',\n",
    "    re.sub(r'https?://\\S+|www\\.\\S+|@\\w+|#', ' ', s.lower())\n",
    ").strip()\n",
    "\n",
    "sample_cleaned = [basic_clean(t) for t in sample_tweets]\n",
    "tfidf_input = tfidf.transform(sample_cleaned)\n",
    "\n",
    "#  Define and enforce correct feature order\n",
    "feature_cols = ['char_count', 'word_count', 'hashtag_count', 'mention_count',\n",
    "                'neg', 'neu', 'pos', 'compound']\n",
    "\n",
    "# Create metadata in exact order\n",
    "sample_meta = pd.DataFrame({\n",
    "    'char_count': [len(t) for t in sample_tweets],\n",
    "    'word_count': [len(t.split()) for t in sample_tweets],\n",
    "    'hashtag_count': [len(re.findall(r\"#\\w+\", t)) for t in sample_tweets],\n",
    "    'mention_count': [len(re.findall(r\"@\\w+\", t)) for t in sample_tweets],\n",
    "    'neg': [0.1]*4,\n",
    "    'neu': [0.8]*4,\n",
    "    'pos': [0.1]*4,\n",
    "    'compound': [0.0]*4\n",
    "})[feature_cols]  # enforce order\n",
    "\n",
    "# Scale numeric features using trained scaler\n",
    "scaled_meta = scaler.transform(sample_meta[feature_cols])\n",
    "\n",
    "# Combine with TF-IDF\n",
    "from scipy.sparse import hstack\n",
    "final_input = hstack((tfidf_input, scaled_meta))\n",
    "\n",
    "# Predict\n",
    "preds = best_rf.predict(final_input)\n",
    "for text, label in zip(sample_tweets, preds):\n",
    "    print(f\"[{'Disaster' if label else 'Non-Disaster'}] ➜ {text}\")"
   ]
  },
  {
   "cell_type": "code",
   "execution_count": null,
   "id": "4cb46e5e-af78-4ccf-83e4-951469f649b4",
   "metadata": {},
   "outputs": [],
   "source": []
  }
 ],
 "metadata": {
  "kernelspec": {
   "display_name": "tfenv",
   "language": "python",
   "name": "tfenv"
  },
  "language_info": {
   "codemirror_mode": {
    "name": "ipython",
    "version": 3
   },
   "file_extension": ".py",
   "mimetype": "text/x-python",
   "name": "python",
   "nbconvert_exporter": "python",
   "pygments_lexer": "ipython3",
   "version": "3.10.0"
  }
 },
 "nbformat": 4,
 "nbformat_minor": 5
}
